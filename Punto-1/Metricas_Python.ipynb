{
  "nbformat": 4,
  "nbformat_minor": 0,
  "metadata": {
    "colab": {
      "provenance": []
    },
    "kernelspec": {
      "name": "python3",
      "display_name": "Python 3"
    },
    "language_info": {
      "name": "python"
    }
  },
  "cells": [
    {
      "cell_type": "code",
      "execution_count": 23,
      "metadata": {
        "id": "2ApC8Wox8vsu"
      },
      "outputs": [],
      "source": [
        "import pandas as pd\n",
        "import numpy as np\n",
        "import matplotlib.pyplot as plt\n",
        "import seaborn as sns\n",
        "from datetime import datetime"
      ]
    },
    {
      "cell_type": "code",
      "source": [
        "# Cargar el archivo CSV\n",
        "df = pd.read_csv('/content/drive/MyDrive/Practico Coink/Data Proyec Coink/data_limpia_coink.csv')\n"
      ],
      "metadata": {
        "id": "_ey7o2v9hUWe"
      },
      "execution_count": 24,
      "outputs": []
    },
    {
      "cell_type": "code",
      "source": [
        "df.head()"
      ],
      "metadata": {
        "colab": {
          "base_uri": "https://localhost:8080/",
          "height": 206
        },
        "id": "6PVI9Do2hf9n",
        "outputId": "bf3da285-8759-4651-b3e0-920c95905519"
      },
      "execution_count": 25,
      "outputs": [
        {
          "output_type": "execute_result",
          "data": {
            "text/plain": [
              "                                user_id  operation_value operation_date  \\\n",
              "0  0e52d550-ae23-407a-9b1f-6e5fb1f066ab           273850     2022-01-14   \n",
              "1  975ed41e-d891-4c23-aeba-06363019d8e3              900     2022-02-06   \n",
              "2  f9043545-dfc2-402f-a8c7-0a61f21cb719             1800     2022-02-23   \n",
              "3  979ca8ad-9600-4a1f-81e9-e70c2f55cdc5             6500     2021-12-16   \n",
              "4  171db06e-2e4b-4542-a9c9-32028520fda4           150000     2022-01-25   \n",
              "\n",
              "                             maplocation_name user_createddate operation_hour  \\\n",
              "0  CC Plaza de las Américas  - Plaza Mariposa       2022-01-09       13:07:56   \n",
              "1  CC Plaza de las Américas  - Plaza Mariposa       2022-01-10       13:11:25   \n",
              "2        Universidad de los Andes - ML Piso 5       2021-08-25       14:01:56   \n",
              "3  CC Plaza de las Américas  - Plaza Mariposa       2021-07-17       12:09:45   \n",
              "4  CC Plaza de las Américas  - Plaza Mariposa       2022-01-11       12:00:18   \n",
              "\n",
              "  user_created_hour  \n",
              "0          19:23:18  \n",
              "1          15:19:29  \n",
              "2          12:44:48  \n",
              "3          17:11:16  \n",
              "4          15:59:27  "
            ],
            "text/html": [
              "\n",
              "  <div id=\"df-11e9904e-6077-4a28-9efe-f5d802c4261f\" class=\"colab-df-container\">\n",
              "    <div>\n",
              "<style scoped>\n",
              "    .dataframe tbody tr th:only-of-type {\n",
              "        vertical-align: middle;\n",
              "    }\n",
              "\n",
              "    .dataframe tbody tr th {\n",
              "        vertical-align: top;\n",
              "    }\n",
              "\n",
              "    .dataframe thead th {\n",
              "        text-align: right;\n",
              "    }\n",
              "</style>\n",
              "<table border=\"1\" class=\"dataframe\">\n",
              "  <thead>\n",
              "    <tr style=\"text-align: right;\">\n",
              "      <th></th>\n",
              "      <th>user_id</th>\n",
              "      <th>operation_value</th>\n",
              "      <th>operation_date</th>\n",
              "      <th>maplocation_name</th>\n",
              "      <th>user_createddate</th>\n",
              "      <th>operation_hour</th>\n",
              "      <th>user_created_hour</th>\n",
              "    </tr>\n",
              "  </thead>\n",
              "  <tbody>\n",
              "    <tr>\n",
              "      <th>0</th>\n",
              "      <td>0e52d550-ae23-407a-9b1f-6e5fb1f066ab</td>\n",
              "      <td>273850</td>\n",
              "      <td>2022-01-14</td>\n",
              "      <td>CC Plaza de las Américas  - Plaza Mariposa</td>\n",
              "      <td>2022-01-09</td>\n",
              "      <td>13:07:56</td>\n",
              "      <td>19:23:18</td>\n",
              "    </tr>\n",
              "    <tr>\n",
              "      <th>1</th>\n",
              "      <td>975ed41e-d891-4c23-aeba-06363019d8e3</td>\n",
              "      <td>900</td>\n",
              "      <td>2022-02-06</td>\n",
              "      <td>CC Plaza de las Américas  - Plaza Mariposa</td>\n",
              "      <td>2022-01-10</td>\n",
              "      <td>13:11:25</td>\n",
              "      <td>15:19:29</td>\n",
              "    </tr>\n",
              "    <tr>\n",
              "      <th>2</th>\n",
              "      <td>f9043545-dfc2-402f-a8c7-0a61f21cb719</td>\n",
              "      <td>1800</td>\n",
              "      <td>2022-02-23</td>\n",
              "      <td>Universidad de los Andes - ML Piso 5</td>\n",
              "      <td>2021-08-25</td>\n",
              "      <td>14:01:56</td>\n",
              "      <td>12:44:48</td>\n",
              "    </tr>\n",
              "    <tr>\n",
              "      <th>3</th>\n",
              "      <td>979ca8ad-9600-4a1f-81e9-e70c2f55cdc5</td>\n",
              "      <td>6500</td>\n",
              "      <td>2021-12-16</td>\n",
              "      <td>CC Plaza de las Américas  - Plaza Mariposa</td>\n",
              "      <td>2021-07-17</td>\n",
              "      <td>12:09:45</td>\n",
              "      <td>17:11:16</td>\n",
              "    </tr>\n",
              "    <tr>\n",
              "      <th>4</th>\n",
              "      <td>171db06e-2e4b-4542-a9c9-32028520fda4</td>\n",
              "      <td>150000</td>\n",
              "      <td>2022-01-25</td>\n",
              "      <td>CC Plaza de las Américas  - Plaza Mariposa</td>\n",
              "      <td>2022-01-11</td>\n",
              "      <td>12:00:18</td>\n",
              "      <td>15:59:27</td>\n",
              "    </tr>\n",
              "  </tbody>\n",
              "</table>\n",
              "</div>\n",
              "    <div class=\"colab-df-buttons\">\n",
              "\n",
              "  <div class=\"colab-df-container\">\n",
              "    <button class=\"colab-df-convert\" onclick=\"convertToInteractive('df-11e9904e-6077-4a28-9efe-f5d802c4261f')\"\n",
              "            title=\"Convert this dataframe to an interactive table.\"\n",
              "            style=\"display:none;\">\n",
              "\n",
              "  <svg xmlns=\"http://www.w3.org/2000/svg\" height=\"24px\" viewBox=\"0 -960 960 960\">\n",
              "    <path d=\"M120-120v-720h720v720H120Zm60-500h600v-160H180v160Zm220 220h160v-160H400v160Zm0 220h160v-160H400v160ZM180-400h160v-160H180v160Zm440 0h160v-160H620v160ZM180-180h160v-160H180v160Zm440 0h160v-160H620v160Z\"/>\n",
              "  </svg>\n",
              "    </button>\n",
              "\n",
              "  <style>\n",
              "    .colab-df-container {\n",
              "      display:flex;\n",
              "      gap: 12px;\n",
              "    }\n",
              "\n",
              "    .colab-df-convert {\n",
              "      background-color: #E8F0FE;\n",
              "      border: none;\n",
              "      border-radius: 50%;\n",
              "      cursor: pointer;\n",
              "      display: none;\n",
              "      fill: #1967D2;\n",
              "      height: 32px;\n",
              "      padding: 0 0 0 0;\n",
              "      width: 32px;\n",
              "    }\n",
              "\n",
              "    .colab-df-convert:hover {\n",
              "      background-color: #E2EBFA;\n",
              "      box-shadow: 0px 1px 2px rgba(60, 64, 67, 0.3), 0px 1px 3px 1px rgba(60, 64, 67, 0.15);\n",
              "      fill: #174EA6;\n",
              "    }\n",
              "\n",
              "    .colab-df-buttons div {\n",
              "      margin-bottom: 4px;\n",
              "    }\n",
              "\n",
              "    [theme=dark] .colab-df-convert {\n",
              "      background-color: #3B4455;\n",
              "      fill: #D2E3FC;\n",
              "    }\n",
              "\n",
              "    [theme=dark] .colab-df-convert:hover {\n",
              "      background-color: #434B5C;\n",
              "      box-shadow: 0px 1px 3px 1px rgba(0, 0, 0, 0.15);\n",
              "      filter: drop-shadow(0px 1px 2px rgba(0, 0, 0, 0.3));\n",
              "      fill: #FFFFFF;\n",
              "    }\n",
              "  </style>\n",
              "\n",
              "    <script>\n",
              "      const buttonEl =\n",
              "        document.querySelector('#df-11e9904e-6077-4a28-9efe-f5d802c4261f button.colab-df-convert');\n",
              "      buttonEl.style.display =\n",
              "        google.colab.kernel.accessAllowed ? 'block' : 'none';\n",
              "\n",
              "      async function convertToInteractive(key) {\n",
              "        const element = document.querySelector('#df-11e9904e-6077-4a28-9efe-f5d802c4261f');\n",
              "        const dataTable =\n",
              "          await google.colab.kernel.invokeFunction('convertToInteractive',\n",
              "                                                    [key], {});\n",
              "        if (!dataTable) return;\n",
              "\n",
              "        const docLinkHtml = 'Like what you see? Visit the ' +\n",
              "          '<a target=\"_blank\" href=https://colab.research.google.com/notebooks/data_table.ipynb>data table notebook</a>'\n",
              "          + ' to learn more about interactive tables.';\n",
              "        element.innerHTML = '';\n",
              "        dataTable['output_type'] = 'display_data';\n",
              "        await google.colab.output.renderOutput(dataTable, element);\n",
              "        const docLink = document.createElement('div');\n",
              "        docLink.innerHTML = docLinkHtml;\n",
              "        element.appendChild(docLink);\n",
              "      }\n",
              "    </script>\n",
              "  </div>\n",
              "\n",
              "\n",
              "<div id=\"df-75cc9ba1-13e7-4832-b36b-df32e67c4fe1\">\n",
              "  <button class=\"colab-df-quickchart\" onclick=\"quickchart('df-75cc9ba1-13e7-4832-b36b-df32e67c4fe1')\"\n",
              "            title=\"Suggest charts\"\n",
              "            style=\"display:none;\">\n",
              "\n",
              "<svg xmlns=\"http://www.w3.org/2000/svg\" height=\"24px\"viewBox=\"0 0 24 24\"\n",
              "     width=\"24px\">\n",
              "    <g>\n",
              "        <path d=\"M19 3H5c-1.1 0-2 .9-2 2v14c0 1.1.9 2 2 2h14c1.1 0 2-.9 2-2V5c0-1.1-.9-2-2-2zM9 17H7v-7h2v7zm4 0h-2V7h2v10zm4 0h-2v-4h2v4z\"/>\n",
              "    </g>\n",
              "</svg>\n",
              "  </button>\n",
              "\n",
              "<style>\n",
              "  .colab-df-quickchart {\n",
              "      --bg-color: #E8F0FE;\n",
              "      --fill-color: #1967D2;\n",
              "      --hover-bg-color: #E2EBFA;\n",
              "      --hover-fill-color: #174EA6;\n",
              "      --disabled-fill-color: #AAA;\n",
              "      --disabled-bg-color: #DDD;\n",
              "  }\n",
              "\n",
              "  [theme=dark] .colab-df-quickchart {\n",
              "      --bg-color: #3B4455;\n",
              "      --fill-color: #D2E3FC;\n",
              "      --hover-bg-color: #434B5C;\n",
              "      --hover-fill-color: #FFFFFF;\n",
              "      --disabled-bg-color: #3B4455;\n",
              "      --disabled-fill-color: #666;\n",
              "  }\n",
              "\n",
              "  .colab-df-quickchart {\n",
              "    background-color: var(--bg-color);\n",
              "    border: none;\n",
              "    border-radius: 50%;\n",
              "    cursor: pointer;\n",
              "    display: none;\n",
              "    fill: var(--fill-color);\n",
              "    height: 32px;\n",
              "    padding: 0;\n",
              "    width: 32px;\n",
              "  }\n",
              "\n",
              "  .colab-df-quickchart:hover {\n",
              "    background-color: var(--hover-bg-color);\n",
              "    box-shadow: 0 1px 2px rgba(60, 64, 67, 0.3), 0 1px 3px 1px rgba(60, 64, 67, 0.15);\n",
              "    fill: var(--button-hover-fill-color);\n",
              "  }\n",
              "\n",
              "  .colab-df-quickchart-complete:disabled,\n",
              "  .colab-df-quickchart-complete:disabled:hover {\n",
              "    background-color: var(--disabled-bg-color);\n",
              "    fill: var(--disabled-fill-color);\n",
              "    box-shadow: none;\n",
              "  }\n",
              "\n",
              "  .colab-df-spinner {\n",
              "    border: 2px solid var(--fill-color);\n",
              "    border-color: transparent;\n",
              "    border-bottom-color: var(--fill-color);\n",
              "    animation:\n",
              "      spin 1s steps(1) infinite;\n",
              "  }\n",
              "\n",
              "  @keyframes spin {\n",
              "    0% {\n",
              "      border-color: transparent;\n",
              "      border-bottom-color: var(--fill-color);\n",
              "      border-left-color: var(--fill-color);\n",
              "    }\n",
              "    20% {\n",
              "      border-color: transparent;\n",
              "      border-left-color: var(--fill-color);\n",
              "      border-top-color: var(--fill-color);\n",
              "    }\n",
              "    30% {\n",
              "      border-color: transparent;\n",
              "      border-left-color: var(--fill-color);\n",
              "      border-top-color: var(--fill-color);\n",
              "      border-right-color: var(--fill-color);\n",
              "    }\n",
              "    40% {\n",
              "      border-color: transparent;\n",
              "      border-right-color: var(--fill-color);\n",
              "      border-top-color: var(--fill-color);\n",
              "    }\n",
              "    60% {\n",
              "      border-color: transparent;\n",
              "      border-right-color: var(--fill-color);\n",
              "    }\n",
              "    80% {\n",
              "      border-color: transparent;\n",
              "      border-right-color: var(--fill-color);\n",
              "      border-bottom-color: var(--fill-color);\n",
              "    }\n",
              "    90% {\n",
              "      border-color: transparent;\n",
              "      border-bottom-color: var(--fill-color);\n",
              "    }\n",
              "  }\n",
              "</style>\n",
              "\n",
              "  <script>\n",
              "    async function quickchart(key) {\n",
              "      const quickchartButtonEl =\n",
              "        document.querySelector('#' + key + ' button');\n",
              "      quickchartButtonEl.disabled = true;  // To prevent multiple clicks.\n",
              "      quickchartButtonEl.classList.add('colab-df-spinner');\n",
              "      try {\n",
              "        const charts = await google.colab.kernel.invokeFunction(\n",
              "            'suggestCharts', [key], {});\n",
              "      } catch (error) {\n",
              "        console.error('Error during call to suggestCharts:', error);\n",
              "      }\n",
              "      quickchartButtonEl.classList.remove('colab-df-spinner');\n",
              "      quickchartButtonEl.classList.add('colab-df-quickchart-complete');\n",
              "    }\n",
              "    (() => {\n",
              "      let quickchartButtonEl =\n",
              "        document.querySelector('#df-75cc9ba1-13e7-4832-b36b-df32e67c4fe1 button');\n",
              "      quickchartButtonEl.style.display =\n",
              "        google.colab.kernel.accessAllowed ? 'block' : 'none';\n",
              "    })();\n",
              "  </script>\n",
              "</div>\n",
              "\n",
              "    </div>\n",
              "  </div>\n"
            ],
            "application/vnd.google.colaboratory.intrinsic+json": {
              "type": "dataframe",
              "variable_name": "df",
              "summary": "{\n  \"name\": \"df\",\n  \"rows\": 4345,\n  \"fields\": [\n    {\n      \"column\": \"user_id\",\n      \"properties\": {\n        \"dtype\": \"category\",\n        \"num_unique_values\": 1656,\n        \"samples\": [\n          \"fbd3382b-71a8-4b20-9410-4156dcf29e6f\",\n          \"9bb169f5-18d7-4c67-aab8-9e5ffdb9913d\",\n          \"32ca30f4-d7b4-4c80-9229-8ac2f89a444c\"\n        ],\n        \"semantic_type\": \"\",\n        \"description\": \"\"\n      }\n    },\n    {\n      \"column\": \"operation_value\",\n      \"properties\": {\n        \"dtype\": \"number\",\n        \"std\": 107142,\n        \"min\": 50,\n        \"max\": 2595000,\n        \"num_unique_values\": 1232,\n        \"samples\": [\n          115200,\n          32500,\n          69500\n        ],\n        \"semantic_type\": \"\",\n        \"description\": \"\"\n      }\n    },\n    {\n      \"column\": \"operation_date\",\n      \"properties\": {\n        \"dtype\": \"object\",\n        \"num_unique_values\": 91,\n        \"samples\": [\n          \"2021-12-08\",\n          \"2022-01-20\",\n          \"2022-02-16\"\n        ],\n        \"semantic_type\": \"\",\n        \"description\": \"\"\n      }\n    },\n    {\n      \"column\": \"maplocation_name\",\n      \"properties\": {\n        \"dtype\": \"category\",\n        \"num_unique_values\": 3,\n        \"samples\": [\n          \"CC Plaza de las Am\\u00e9ricas  - Plaza Mariposa\",\n          \"Universidad de los Andes - ML Piso 5\",\n          \"CC Los Molinos - Zona Monta\\u00f1a Nivel 2\"\n        ],\n        \"semantic_type\": \"\",\n        \"description\": \"\"\n      }\n    },\n    {\n      \"column\": \"user_createddate\",\n      \"properties\": {\n        \"dtype\": \"object\",\n        \"num_unique_values\": 458,\n        \"samples\": [\n          \"2021-05-22\",\n          \"2021-12-11\",\n          \"2019-10-07\"\n        ],\n        \"semantic_type\": \"\",\n        \"description\": \"\"\n      }\n    },\n    {\n      \"column\": \"operation_hour\",\n      \"properties\": {\n        \"dtype\": \"object\",\n        \"num_unique_values\": 4136,\n        \"samples\": [\n          \"12:26:28\",\n          \"18:10:42\",\n          \"16:53:17\"\n        ],\n        \"semantic_type\": \"\",\n        \"description\": \"\"\n      }\n    },\n    {\n      \"column\": \"user_created_hour\",\n      \"properties\": {\n        \"dtype\": \"object\",\n        \"num_unique_values\": 1632,\n        \"samples\": [\n          \"19:12:06\",\n          \"11:45:39\",\n          \"10:12:04\"\n        ],\n        \"semantic_type\": \"\",\n        \"description\": \"\"\n      }\n    }\n  ]\n}"
            }
          },
          "metadata": {},
          "execution_count": 25
        }
      ]
    },
    {
      "cell_type": "markdown",
      "source": [
        "# Metricas"
      ],
      "metadata": {
        "id": "-MVc9Fbdhhcp"
      }
    },
    {
      "cell_type": "markdown",
      "source": [
        "Se van a manejar diferentes metricas y con relacion a ello, se dira que tan buenos son los usuarios de COINK, basado en los datos obtenidos"
      ],
      "metadata": {
        "id": "WDVC429PjBbn"
      }
    },
    {
      "cell_type": "markdown",
      "source": [
        "### Cantidad de transacciones por usuario, total de transacciones\n"
      ],
      "metadata": {
        "id": "H1q-53IogI0d"
      }
    },
    {
      "cell_type": "code",
      "source": [
        "# Total operaciones\n",
        "total_operations = len(df)\n",
        "total_operations"
      ],
      "metadata": {
        "colab": {
          "base_uri": "https://localhost:8080/"
        },
        "id": "q2CHtDF_WOSr",
        "outputId": "48f1e4f4-de7c-48bb-c610-50887919195d"
      },
      "execution_count": 44,
      "outputs": [
        {
          "output_type": "execute_result",
          "data": {
            "text/plain": [
              "4345"
            ]
          },
          "metadata": {},
          "execution_count": 44
        }
      ]
    },
    {
      "cell_type": "code",
      "source": [
        "# Calcular el total de operaciones unicas\n",
        "total_unique_operations = df['user_id'].nunique()\n",
        "total_unique_operations"
      ],
      "metadata": {
        "colab": {
          "base_uri": "https://localhost:8080/"
        },
        "id": "VQr8M6KLXMEt",
        "outputId": "3106e6f3-ff40-4900-cb9e-f4e41b45f13f"
      },
      "execution_count": 45,
      "outputs": [
        {
          "output_type": "execute_result",
          "data": {
            "text/plain": [
              "1656"
            ]
          },
          "metadata": {},
          "execution_count": 45
        }
      ]
    },
    {
      "cell_type": "code",
      "source": [
        "# Calcular el número total de depósitos por usuario\n",
        "num_deposits_per_user = df['user_id'].value_counts()\n",
        "num_deposits_per_user.head(20)"
      ],
      "metadata": {
        "colab": {
          "base_uri": "https://localhost:8080/"
        },
        "id": "9hmFinishzvc",
        "outputId": "62072c3f-7674-4357-d45a-8c4190c3d2ff"
      },
      "execution_count": 46,
      "outputs": [
        {
          "output_type": "execute_result",
          "data": {
            "text/plain": [
              "user_id\n",
              "47e76d57-09d3-4ea4-8531-9b839d83069e    61\n",
              "b88c1107-1d71-4782-bcc9-285877d89b1a    44\n",
              "2df8831e-a37a-4ba7-b8f0-ec7c313d68af    39\n",
              "8f64a145-013a-4d76-85f5-9a0c6aaf3ee2    37\n",
              "d38ae321-26b9-454b-9297-7c58068b4376    32\n",
              "2e31bffe-ea66-44ec-8647-56d0fbab0516    27\n",
              "6f556718-552b-4f6e-a5b2-e5f06ceb5e74    26\n",
              "b99b3b89-8d45-4656-a950-c85f202897b1    25\n",
              "2b9d276a-54e5-4837-ab8d-cd7ec0e89ea5    23\n",
              "c82a388c-b06b-4bd4-882c-faa5d776d325    23\n",
              "970cb0ff-1243-4066-8eae-22174f1a5e1d    22\n",
              "ebf015f5-75a6-4273-a7e3-48e9f95d9f62    21\n",
              "6fa8953f-3822-4976-afc5-97ad25cbcd33    20\n",
              "44435a85-4d17-4a04-ab09-42da78d9ba88    20\n",
              "0c85e0ef-1ebe-4cf6-a186-736c710399e8    20\n",
              "69cbf644-dc5b-488f-8761-697182345d12    19\n",
              "b2f16fd3-03c9-4d2f-8c5f-7878292fa4fe    19\n",
              "33b0dc63-88df-4c53-8434-772409b38f55    18\n",
              "5c6df957-7f03-4cb5-bf06-105806324a9e    18\n",
              "f86064c6-86d0-41ec-9262-d227de89e0ee    17\n",
              "Name: count, dtype: int64"
            ]
          },
          "metadata": {},
          "execution_count": 46
        }
      ]
    },
    {
      "cell_type": "code",
      "source": [
        "# media de transacciones por usuario\n",
        "df['user_id'].value_counts().mean()"
      ],
      "metadata": {
        "colab": {
          "base_uri": "https://localhost:8080/"
        },
        "id": "dVqpkTc5pLv8",
        "outputId": "26e7cd41-e5c7-4616-b39a-ec228946b1c7"
      },
      "execution_count": 47,
      "outputs": [
        {
          "output_type": "execute_result",
          "data": {
            "text/plain": [
              "2.623792270531401"
            ]
          },
          "metadata": {},
          "execution_count": 47
        }
      ]
    },
    {
      "cell_type": "code",
      "source": [
        "# Contar la cantidad de transacciones por usuario\n",
        "transactions_per_user = df['user_id'].value_counts()\n",
        "\n",
        "# Contar la cantidad de usuarios con 9 o más transacciones\n",
        "users_with_3_or_more = transactions_per_user[transactions_per_user >= 3].index\n",
        "users_with_3_or_more\n"
      ],
      "metadata": {
        "colab": {
          "base_uri": "https://localhost:8080/"
        },
        "id": "mZcVnXJNVZMH",
        "outputId": "76dba649-c20b-4aec-8478-d39c9cb73af7"
      },
      "execution_count": 48,
      "outputs": [
        {
          "output_type": "execute_result",
          "data": {
            "text/plain": [
              "Index(['47e76d57-09d3-4ea4-8531-9b839d83069e',\n",
              "       'b88c1107-1d71-4782-bcc9-285877d89b1a',\n",
              "       '2df8831e-a37a-4ba7-b8f0-ec7c313d68af',\n",
              "       '8f64a145-013a-4d76-85f5-9a0c6aaf3ee2',\n",
              "       'd38ae321-26b9-454b-9297-7c58068b4376',\n",
              "       '2e31bffe-ea66-44ec-8647-56d0fbab0516',\n",
              "       '6f556718-552b-4f6e-a5b2-e5f06ceb5e74',\n",
              "       'b99b3b89-8d45-4656-a950-c85f202897b1',\n",
              "       '2b9d276a-54e5-4837-ab8d-cd7ec0e89ea5',\n",
              "       'c82a388c-b06b-4bd4-882c-faa5d776d325',\n",
              "       ...\n",
              "       '224655b3-d3c8-4964-a317-dd138929ad6e',\n",
              "       'de8ccdf9-8921-44ce-b698-cd26c181e49c',\n",
              "       '78039346-1b00-4ebf-8e04-01b4a39b24b5',\n",
              "       '1df3064b-8b74-48ad-b580-8a342b68d559',\n",
              "       'afb38040-579b-42b5-9c58-a3544521b55d',\n",
              "       '116b91d7-f7bd-4998-b770-f3d40fcaa005',\n",
              "       'bf8f1f04-4a17-4437-8eec-2138ef14049b',\n",
              "       '8227b72b-47ff-4c71-acb9-09b37ce2019a',\n",
              "       'b92e89e3-1c94-4443-9c94-ba8dedb3767a',\n",
              "       '6ff4b760-66bc-47bd-9d7d-67dc26ea66c9'],\n",
              "      dtype='object', name='user_id', length=450)"
            ]
          },
          "metadata": {},
          "execution_count": 48
        }
      ]
    },
    {
      "cell_type": "code",
      "source": [
        "# Contar la cantidad de usuarios con 8 o menos transacciones\n",
        "users_with_2_or_less = transactions_per_user[transactions_per_user <= 2].index\n",
        "users_with_2_or_less"
      ],
      "metadata": {
        "colab": {
          "base_uri": "https://localhost:8080/"
        },
        "id": "e2dd1igzZiGz",
        "outputId": "3a38f753-5ba1-4b94-fc0b-8abd96f773ec"
      },
      "execution_count": 49,
      "outputs": [
        {
          "output_type": "execute_result",
          "data": {
            "text/plain": [
              "Index(['8762c286-cc59-4cfc-af6c-cb2fa9b92efa',\n",
              "       '60bb185b-31eb-4d23-9634-2351860ed586',\n",
              "       'f7c3f3a2-0640-4caf-97b2-7d657ffe8147',\n",
              "       'f238023d-e6c6-4a7f-be38-c7232eb2037a',\n",
              "       '0a8bbb74-a276-4434-895c-b30a94c04dee',\n",
              "       '5985d16a-7688-493c-bb9d-f60ed43870ab',\n",
              "       'bf5c2ec0-855a-431c-81d8-761b610a27a9',\n",
              "       'ab7be901-0612-456c-b8d3-470c67839f48',\n",
              "       '1bbb3099-c483-416b-b83f-fc6a42a5d61a',\n",
              "       '158389e7-4fa8-497f-b826-7d3a7ad0ffd4',\n",
              "       ...\n",
              "       'e90ce536-fd4a-42e3-9e54-eb1eefb34472',\n",
              "       '2f538cb1-3a04-4c3f-acdc-2afef58209db',\n",
              "       '4df4bedd-15cf-4e3e-a176-602e71cfd311',\n",
              "       '9eca2241-2d6d-490c-9789-0058e837fa9f',\n",
              "       'ad826f40-96d0-4808-b14a-fcbc1cc89293',\n",
              "       '477e444f-9d89-47ae-8d7e-80455ce71fbe',\n",
              "       '198d85e8-2f40-4b5f-b7a8-310408de841a',\n",
              "       '7e076300-485b-460f-a99c-3033d12e2916',\n",
              "       '2196beee-e3a1-424c-869c-8517a40a6443',\n",
              "       'c3d37131-76e8-4c4f-8e55-2778ab8817ad'],\n",
              "      dtype='object', name='user_id', length=1206)"
            ]
          },
          "metadata": {},
          "execution_count": 49
        }
      ]
    },
    {
      "cell_type": "code",
      "source": [
        "# Calcular la suma de las cantidades depositadas por usuarios con 3 o más transacciones\n",
        "sum_users_with_3_or_more = df[df['user_id'].isin(users_with_3_or_more)]['operation_value'].sum()\n",
        "sum_users_with_3_or_more\n"
      ],
      "metadata": {
        "colab": {
          "base_uri": "https://localhost:8080/"
        },
        "id": "RcC1VwvBafSP",
        "outputId": "3a264413-9e7f-476a-ef8a-bca99f9e59bf"
      },
      "execution_count": 50,
      "outputs": [
        {
          "output_type": "execute_result",
          "data": {
            "text/plain": [
              "93384400"
            ]
          },
          "metadata": {},
          "execution_count": 50
        }
      ]
    },
    {
      "cell_type": "code",
      "source": [
        "# Calcular la suma de las cantidades depositadas por usuarios con 2 o menos transacciones\n",
        "sum_users_with_2_or_less = df[df['user_id'].isin(users_with_2_or_less)]['operation_value'].sum()\n",
        "sum_users_with_2_or_less"
      ],
      "metadata": {
        "colab": {
          "base_uri": "https://localhost:8080/"
        },
        "id": "SLReXl8zahLi",
        "outputId": "8282d595-fbe6-4cf7-f20f-68441ee0cb51"
      },
      "execution_count": 51,
      "outputs": [
        {
          "output_type": "execute_result",
          "data": {
            "text/plain": [
              "57032350"
            ]
          },
          "metadata": {},
          "execution_count": 51
        }
      ]
    },
    {
      "cell_type": "code",
      "source": [
        "# Crear el gráfico de barras\n",
        "fig, ax = plt.subplots()\n",
        "users = ['3 o más transacciones', '2 o menos transacciones']\n",
        "sums = [sum_users_with_3_or_more, sum_users_with_2_or_less]\n",
        "\n",
        "ax.bar(users, sums)\n",
        "ax.set_ylabel('Suma en millones')\n",
        "ax.set_title('totalcantidades depositadas por usuarios')\n",
        "plt.show()"
      ],
      "metadata": {
        "colab": {
          "base_uri": "https://localhost:8080/",
          "height": 452
        },
        "id": "lgqn9wojeDKx",
        "outputId": "4b6d61cb-5d14-4806-f960-4f7e735092f4"
      },
      "execution_count": 52,
      "outputs": [
        {
          "output_type": "display_data",
          "data": {
            "text/plain": [
              "<Figure size 640x480 with 1 Axes>"
            ],
            "image/png": "[encoded data removed]"
          },
          "metadata": {}
        }
      ]
    },
    {
      "cell_type": "markdown",
      "source": [
        "### frecuencia de depositos\n"
      ],
      "metadata": {
        "id": "JvjIH5AThSyS"
      }
    },
    {
      "cell_type": "code",
      "source": [
        "# Convertir la columna 'operation_date' a tipo datetime\n",
        "df['operation_date'] = pd.to_datetime(df['operation_date'])\n",
        "\n",
        "# Filtrar las transacciones de depósito para el año 2021\n",
        "deposits_2021 = df[(df['operation_value'] > 0) & (df['operation_date'].dt.year == 2021)]\n",
        "\n",
        "# Agrupar por mes y contar la cantidad de depósitos en cada mes\n",
        "deposits_by_month = deposits_2021.groupby(deposits_2021['operation_date'].dt.month).size()\n",
        "\n",
        "print(\"Depósitos por mes en el año 2021:\")\n",
        "deposits_by_month\n"
      ],
      "metadata": {
        "colab": {
          "base_uri": "https://localhost:8080/"
        },
        "id": "k_HjEQC-hYLQ",
        "outputId": "2c344283-b72e-474d-fbce-9aa8ef172015"
      },
      "execution_count": 60,
      "outputs": [
        {
          "output_type": "stream",
          "name": "stdout",
          "text": [
            "Depósitos por mes en el año 2021:\n"
          ]
        },
        {
          "output_type": "execute_result",
          "data": {
            "text/plain": [
              "operation_date\n",
              "11     212\n",
              "12    1265\n",
              "dtype: int64"
            ]
          },
          "metadata": {},
          "execution_count": 60
        }
      ]
    },
    {
      "cell_type": "code",
      "source": [
        "# Convertir la columna 'operation_date' a tipo datetime\n",
        "df['operation_date'] = pd.to_datetime(df['operation_date'])\n",
        "\n",
        "# Filtrar las transacciones de depósito para el año 2022\n",
        "deposits_2022 = df[(df['operation_value'] > 0) & (df['operation_date'].dt.year == 2022)]\n",
        "\n",
        "# Agrupar por mes y contar la cantidad de depósitos en cada mes\n",
        "deposits_by_month = deposits_2022.groupby(deposits_2022['operation_date'].dt.month).size()\n",
        "\n",
        "print(\"Depósitos por mes en el año 2022:\")\n",
        "deposits_by_month\n",
        "\n"
      ],
      "metadata": {
        "colab": {
          "base_uri": "https://localhost:8080/"
        },
        "id": "w19oUO73jRpP",
        "outputId": "d0eaa72b-b4e3-4bb1-973e-7135d45d41bf"
      },
      "execution_count": 61,
      "outputs": [
        {
          "output_type": "stream",
          "name": "stdout",
          "text": [
            "Depósitos por mes en el año 2022:\n"
          ]
        },
        {
          "output_type": "execute_result",
          "data": {
            "text/plain": [
              "operation_date\n",
              "1    1422\n",
              "2    1446\n",
              "dtype: int64"
            ]
          },
          "metadata": {},
          "execution_count": 61
        }
      ]
    },
    {
      "cell_type": "code",
      "source": [
        "\n",
        "# Filtrar las transacciones de depósito para los meses de noviembre y diciembre de 2021\n",
        "months_filter = (df['operation_date'].dt.year == 2021) & (df['operation_date'].dt.month.isin([11, 12]))\n",
        "\n",
        "deposits_filtered = df[(df['operation_value'] > 0) & months_filter]\n",
        "\n",
        "# Agrupar por mes y contar la cantidad de depósitos en cada mes\n",
        "deposits_by_month = deposits_filtered.groupby(deposits_filtered['operation_date'].dt.month).size()\n",
        "\n",
        "# Crear la figura y los ejes\n",
        "fig, ax = plt.subplots()\n",
        "\n",
        "# Graficar los depósitos por mes\n",
        "ax.plot(deposits_by_month.index, deposits_by_month.values, marker='o')\n",
        "\n",
        "#Titulo\n",
        "ax.set_xlabel('Mes')\n",
        "ax.set_ylabel('Cantidad de Depósitos')\n",
        "ax.set_title('Depósitos por Mes - Noviembre y Diciembre 2021')\n",
        "\n",
        "\n",
        "plt.show()"
      ],
      "metadata": {
        "colab": {
          "base_uri": "https://localhost:8080/",
          "height": 472
        },
        "id": "_5o_spnanJMx",
        "outputId": "297b73c6-21e6-484c-fb8b-29e98905483f"
      },
      "execution_count": 67,
      "outputs": [
        {
          "output_type": "display_data",
          "data": {
            "text/plain": [
              "<Figure size 640x480 with 1 Axes>"
            ],
            "image/png": "[encoded data removed]"
          },
          "metadata": {}
        }
      ]
    },
    {
      "cell_type": "code",
      "source": [
        "\n",
        "# Filtrar las transacciones de depósito para los meses de noviembre y diciembre de 2021\n",
        "months_filter = (df['operation_date'].dt.year == 2022) & (df['operation_date'].dt.month.isin([1, 2]))\n",
        "\n",
        "deposits_filtered = df[(df['operation_value'] > 0) & months_filter]\n",
        "\n",
        "# Agrupar por mes y contar la cantidad de depósitos en cada mes\n",
        "deposits_by_month = deposits_filtered.groupby(deposits_filtered['operation_date'].dt.month).size()\n",
        "\n",
        "# Crear la figura y los ejes\n",
        "fig, ax = plt.subplots()\n",
        "\n",
        "# Graficar los depósitos por mes\n",
        "ax.plot(deposits_by_month.index, deposits_by_month.values, marker='o')\n",
        "\n",
        "# Agregar título\n",
        "ax.set_xlabel('Mes')\n",
        "ax.set_ylabel('Cantidad de Depósitos')\n",
        "ax.set_title('Depósitos por Mes - Noviembre y Diciembre 2021')\n",
        "\n",
        "# Mostrar la gráfica\n",
        "plt.show()"
      ],
      "metadata": {
        "colab": {
          "base_uri": "https://localhost:8080/",
          "height": 472
        },
        "id": "zcn288Z2oU7-",
        "outputId": "7615b9a2-4943-49b8-f2d2-4c4eff9b9fb7"
      },
      "execution_count": 68,
      "outputs": [
        {
          "output_type": "display_data",
          "data": {
            "text/plain": [
              "<Figure size 640x480 with 1 Axes>"
            ],
            "image/png": "[encoded data removed]"
          },
          "metadata": {}
        }
      ]
    },
    {
      "cell_type": "markdown",
      "source": [
        "### Cantidad de operacion por ubicacion"
      ],
      "metadata": {
        "id": "LTGfYuHQqu6l"
      }
    },
    {
      "cell_type": "code",
      "source": [
        "# Calcular la cantidad de operaciones por ubicación\n",
        "Operations_by_location = df.groupby('maplocation_name').size().reset_index(name='cantidad_operaciones')\n",
        "Operations_by_location"
      ],
      "metadata": {
        "colab": {
          "base_uri": "https://localhost:8080/",
          "height": 143
        },
        "id": "n6KZ2q8Oqt-4",
        "outputId": "e3122e0a-b3df-4512-e531-bc5d46c0b7eb"
      },
      "execution_count": 71,
      "outputs": [
        {
          "output_type": "execute_result",
          "data": {
            "text/plain": [
              "                             maplocation_name  cantidad_operaciones\n",
              "0       CC Los Molinos - Zona Montaña Nivel 2                  1894\n",
              "1  CC Plaza de las Américas  - Plaza Mariposa                  1976\n",
              "2        Universidad de los Andes - ML Piso 5                   475"
            ],
            "text/html": [
              "\n",
              "  <div id=\"df-ccaa7c30-f94e-43e0-b4ed-13a21f00ab0e\" class=\"colab-df-container\">\n",
              "    <div>\n",
              "<style scoped>\n",
              "    .dataframe tbody tr th:only-of-type {\n",
              "        vertical-align: middle;\n",
              "    }\n",
              "\n",
              "    .dataframe tbody tr th {\n",
              "        vertical-align: top;\n",
              "    }\n",
              "\n",
              "    .dataframe thead th {\n",
              "        text-align: right;\n",
              "    }\n",
              "</style>\n",
              "<table border=\"1\" class=\"dataframe\">\n",
              "  <thead>\n",
              "    <tr style=\"text-align: right;\">\n",
              "      <th></th>\n",
              "      <th>maplocation_name</th>\n",
              "      <th>cantidad_operaciones</th>\n",
              "    </tr>\n",
              "  </thead>\n",
              "  <tbody>\n",
              "    <tr>\n",
              "      <th>0</th>\n",
              "      <td>CC Los Molinos - Zona Montaña Nivel 2</td>\n",
              "      <td>1894</td>\n",
              "    </tr>\n",
              "    <tr>\n",
              "      <th>1</th>\n",
              "      <td>CC Plaza de las Américas  - Plaza Mariposa</td>\n",
              "      <td>1976</td>\n",
              "    </tr>\n",
              "    <tr>\n",
              "      <th>2</th>\n",
              "      <td>Universidad de los Andes - ML Piso 5</td>\n",
              "      <td>475</td>\n",
              "    </tr>\n",
              "  </tbody>\n",
              "</table>\n",
              "</div>\n",
              "    <div class=\"colab-df-buttons\">\n",
              "\n",
              "  <div class=\"colab-df-container\">\n",
              "    <button class=\"colab-df-convert\" onclick=\"convertToInteractive('df-ccaa7c30-f94e-43e0-b4ed-13a21f00ab0e')\"\n",
              "            title=\"Convert this dataframe to an interactive table.\"\n",
              "            style=\"display:none;\">\n",
              "\n",
              "  <svg xmlns=\"http://www.w3.org/2000/svg\" height=\"24px\" viewBox=\"0 -960 960 960\">\n",
              "    <path d=\"M120-120v-720h720v720H120Zm60-500h600v-160H180v160Zm220 220h160v-160H400v160Zm0 220h160v-160H400v160ZM180-400h160v-160H180v160Zm440 0h160v-160H620v160ZM180-180h160v-160H180v160Zm440 0h160v-160H620v160Z\"/>\n",
              "  </svg>\n",
              "    </button>\n",
              "\n",
              "  <style>\n",
              "    .colab-df-container {\n",
              "      display:flex;\n",
              "      gap: 12px;\n",
              "    }\n",
              "\n",
              "    .colab-df-convert {\n",
              "      background-color: #E8F0FE;\n",
              "      border: none;\n",
              "      border-radius: 50%;\n",
              "      cursor: pointer;\n",
              "      display: none;\n",
              "      fill: #1967D2;\n",
              "      height: 32px;\n",
              "      padding: 0 0 0 0;\n",
              "      width: 32px;\n",
              "    }\n",
              "\n",
              "    .colab-df-convert:hover {\n",
              "      background-color: #E2EBFA;\n",
              "      box-shadow: 0px 1px 2px rgba(60, 64, 67, 0.3), 0px 1px 3px 1px rgba(60, 64, 67, 0.15);\n",
              "      fill: #174EA6;\n",
              "    }\n",
              "\n",
              "    .colab-df-buttons div {\n",
              "      margin-bottom: 4px;\n",
              "    }\n",
              "\n",
              "    [theme=dark] .colab-df-convert {\n",
              "      background-color: #3B4455;\n",
              "      fill: #D2E3FC;\n",
              "    }\n",
              "\n",
              "    [theme=dark] .colab-df-convert:hover {\n",
              "      background-color: #434B5C;\n",
              "      box-shadow: 0px 1px 3px 1px rgba(0, 0, 0, 0.15);\n",
              "      filter: drop-shadow(0px 1px 2px rgba(0, 0, 0, 0.3));\n",
              "      fill: #FFFFFF;\n",
              "    }\n",
              "  </style>\n",
              "\n",
              "    <script>\n",
              "      const buttonEl =\n",
              "        document.querySelector('#df-ccaa7c30-f94e-43e0-b4ed-13a21f00ab0e button.colab-df-convert');\n",
              "      buttonEl.style.display =\n",
              "        google.colab.kernel.accessAllowed ? 'block' : 'none';\n",
              "\n",
              "      async function convertToInteractive(key) {\n",
              "        const element = document.querySelector('#df-ccaa7c30-f94e-43e0-b4ed-13a21f00ab0e');\n",
              "        const dataTable =\n",
              "          await google.colab.kernel.invokeFunction('convertToInteractive',\n",
              "                                                    [key], {});\n",
              "        if (!dataTable) return;\n",
              "\n",
              "        const docLinkHtml = 'Like what you see? Visit the ' +\n",
              "          '<a target=\"_blank\" href=https://colab.research.google.com/notebooks/data_table.ipynb>data table notebook</a>'\n",
              "          + ' to learn more about interactive tables.';\n",
              "        element.innerHTML = '';\n",
              "        dataTable['output_type'] = 'display_data';\n",
              "        await google.colab.output.renderOutput(dataTable, element);\n",
              "        const docLink = document.createElement('div');\n",
              "        docLink.innerHTML = docLinkHtml;\n",
              "        element.appendChild(docLink);\n",
              "      }\n",
              "    </script>\n",
              "  </div>\n",
              "\n",
              "\n",
              "<div id=\"df-9e34f17d-989e-432b-a92d-dbb6c7e86a99\">\n",
              "  <button class=\"colab-df-quickchart\" onclick=\"quickchart('df-9e34f17d-989e-432b-a92d-dbb6c7e86a99')\"\n",
              "            title=\"Suggest charts\"\n",
              "            style=\"display:none;\">\n",
              "\n",
              "<svg xmlns=\"http://www.w3.org/2000/svg\" height=\"24px\"viewBox=\"0 0 24 24\"\n",
              "     width=\"24px\">\n",
              "    <g>\n",
              "        <path d=\"M19 3H5c-1.1 0-2 .9-2 2v14c0 1.1.9 2 2 2h14c1.1 0 2-.9 2-2V5c0-1.1-.9-2-2-2zM9 17H7v-7h2v7zm4 0h-2V7h2v10zm4 0h-2v-4h2v4z\"/>\n",
              "    </g>\n",
              "</svg>\n",
              "  </button>\n",
              "\n",
              "<style>\n",
              "  .colab-df-quickchart {\n",
              "      --bg-color: #E8F0FE;\n",
              "      --fill-color: #1967D2;\n",
              "      --hover-bg-color: #E2EBFA;\n",
              "      --hover-fill-color: #174EA6;\n",
              "      --disabled-fill-color: #AAA;\n",
              "      --disabled-bg-color: #DDD;\n",
              "  }\n",
              "\n",
              "  [theme=dark] .colab-df-quickchart {\n",
              "      --bg-color: #3B4455;\n",
              "      --fill-color: #D2E3FC;\n",
              "      --hover-bg-color: #434B5C;\n",
              "      --hover-fill-color: #FFFFFF;\n",
              "      --disabled-bg-color: #3B4455;\n",
              "      --disabled-fill-color: #666;\n",
              "  }\n",
              "\n",
              "  .colab-df-quickchart {\n",
              "    background-color: var(--bg-color);\n",
              "    border: none;\n",
              "    border-radius: 50%;\n",
              "    cursor: pointer;\n",
              "    display: none;\n",
              "    fill: var(--fill-color);\n",
              "    height: 32px;\n",
              "    padding: 0;\n",
              "    width: 32px;\n",
              "  }\n",
              "\n",
              "  .colab-df-quickchart:hover {\n",
              "    background-color: var(--hover-bg-color);\n",
              "    box-shadow: 0 1px 2px rgba(60, 64, 67, 0.3), 0 1px 3px 1px rgba(60, 64, 67, 0.15);\n",
              "    fill: var(--button-hover-fill-color);\n",
              "  }\n",
              "\n",
              "  .colab-df-quickchart-complete:disabled,\n",
              "  .colab-df-quickchart-complete:disabled:hover {\n",
              "    background-color: var(--disabled-bg-color);\n",
              "    fill: var(--disabled-fill-color);\n",
              "    box-shadow: none;\n",
              "  }\n",
              "\n",
              "  .colab-df-spinner {\n",
              "    border: 2px solid var(--fill-color);\n",
              "    border-color: transparent;\n",
              "    border-bottom-color: var(--fill-color);\n",
              "    animation:\n",
              "      spin 1s steps(1) infinite;\n",
              "  }\n",
              "\n",
              "  @keyframes spin {\n",
              "    0% {\n",
              "      border-color: transparent;\n",
              "      border-bottom-color: var(--fill-color);\n",
              "      border-left-color: var(--fill-color);\n",
              "    }\n",
              "    20% {\n",
              "      border-color: transparent;\n",
              "      border-left-color: var(--fill-color);\n",
              "      border-top-color: var(--fill-color);\n",
              "    }\n",
              "    30% {\n",
              "      border-color: transparent;\n",
              "      border-left-color: var(--fill-color);\n",
              "      border-top-color: var(--fill-color);\n",
              "      border-right-color: var(--fill-color);\n",
              "    }\n",
              "    40% {\n",
              "      border-color: transparent;\n",
              "      border-right-color: var(--fill-color);\n",
              "      border-top-color: var(--fill-color);\n",
              "    }\n",
              "    60% {\n",
              "      border-color: transparent;\n",
              "      border-right-color: var(--fill-color);\n",
              "    }\n",
              "    80% {\n",
              "      border-color: transparent;\n",
              "      border-right-color: var(--fill-color);\n",
              "      border-bottom-color: var(--fill-color);\n",
              "    }\n",
              "    90% {\n",
              "      border-color: transparent;\n",
              "      border-bottom-color: var(--fill-color);\n",
              "    }\n",
              "  }\n",
              "</style>\n",
              "\n",
              "  <script>\n",
              "    async function quickchart(key) {\n",
              "      const quickchartButtonEl =\n",
              "        document.querySelector('#' + key + ' button');\n",
              "      quickchartButtonEl.disabled = true;  // To prevent multiple clicks.\n",
              "      quickchartButtonEl.classList.add('colab-df-spinner');\n",
              "      try {\n",
              "        const charts = await google.colab.kernel.invokeFunction(\n",
              "            'suggestCharts', [key], {});\n",
              "      } catch (error) {\n",
              "        console.error('Error during call to suggestCharts:', error);\n",
              "      }\n",
              "      quickchartButtonEl.classList.remove('colab-df-spinner');\n",
              "      quickchartButtonEl.classList.add('colab-df-quickchart-complete');\n",
              "    }\n",
              "    (() => {\n",
              "      let quickchartButtonEl =\n",
              "        document.querySelector('#df-9e34f17d-989e-432b-a92d-dbb6c7e86a99 button');\n",
              "      quickchartButtonEl.style.display =\n",
              "        google.colab.kernel.accessAllowed ? 'block' : 'none';\n",
              "    })();\n",
              "  </script>\n",
              "</div>\n",
              "\n",
              "  <div id=\"id_2e96446e-4c66-4374-90e3-766d5b13424f\">\n",
              "    <style>\n",
              "      .colab-df-generate {\n",
              "        background-color: #E8F0FE;\n",
              "        border: none;\n",
              "        border-radius: 50%;\n",
              "        cursor: pointer;\n",
              "        display: none;\n",
              "        fill: #1967D2;\n",
              "        height: 32px;\n",
              "        padding: 0 0 0 0;\n",
              "        width: 32px;\n",
              "      }\n",
              "\n",
              "      .colab-df-generate:hover {\n",
              "        background-color: #E2EBFA;\n",
              "        box-shadow: 0px 1px 2px rgba(60, 64, 67, 0.3), 0px 1px 3px 1px rgba(60, 64, 67, 0.15);\n",
              "        fill: #174EA6;\n",
              "      }\n",
              "\n",
              "      [theme=dark] .colab-df-generate {\n",
              "        background-color: #3B4455;\n",
              "        fill: #D2E3FC;\n",
              "      }\n",
              "\n",
              "      [theme=dark] .colab-df-generate:hover {\n",
              "        background-color: #434B5C;\n",
              "        box-shadow: 0px 1px 3px 1px rgba(0, 0, 0, 0.15);\n",
              "        filter: drop-shadow(0px 1px 2px rgba(0, 0, 0, 0.3));\n",
              "        fill: #FFFFFF;\n",
              "      }\n",
              "    </style>\n",
              "    <button class=\"colab-df-generate\" onclick=\"generateWithVariable('Operations_by_location')\"\n",
              "            title=\"Generate code using this dataframe.\"\n",
              "            style=\"display:none;\">\n",
              "\n",
              "  <svg xmlns=\"http://www.w3.org/2000/svg\" height=\"24px\"viewBox=\"0 0 24 24\"\n",
              "       width=\"24px\">\n",
              "    <path d=\"M7,19H8.4L18.45,9,17,7.55,7,17.6ZM5,21V16.75L18.45,3.32a2,2,0,0,1,2.83,0l1.4,1.43a1.91,1.91,0,0,1,.58,1.4,1.91,1.91,0,0,1-.58,1.4L9.25,21ZM18.45,9,17,7.55Zm-12,3A5.31,5.31,0,0,0,4.9,8.1,5.31,5.31,0,0,0,1,6.5,5.31,5.31,0,0,0,4.9,4.9,5.31,5.31,0,0,0,6.5,1,5.31,5.31,0,0,0,8.1,4.9,5.31,5.31,0,0,0,12,6.5,5.46,5.46,0,0,0,6.5,12Z\"/>\n",
              "  </svg>\n",
              "    </button>\n",
              "    <script>\n",
              "      (() => {\n",
              "      const buttonEl =\n",
              "        document.querySelector('#id_2e96446e-4c66-4374-90e3-766d5b13424f button.colab-df-generate');\n",
              "      buttonEl.style.display =\n",
              "        google.colab.kernel.accessAllowed ? 'block' : 'none';\n",
              "\n",
              "      buttonEl.onclick = () => {\n",
              "        google.colab.notebook.generateWithVariable('Operations_by_location');\n",
              "      }\n",
              "      })();\n",
              "    </script>\n",
              "  </div>\n",
              "\n",
              "    </div>\n",
              "  </div>\n"
            ],
            "application/vnd.google.colaboratory.intrinsic+json": {
              "type": "dataframe",
              "variable_name": "Operations_by_location",
              "summary": "{\n  \"name\": \"Operations_by_location\",\n  \"rows\": 3,\n  \"fields\": [\n    {\n      \"column\": \"maplocation_name\",\n      \"properties\": {\n        \"dtype\": \"string\",\n        \"num_unique_values\": 3,\n        \"samples\": [\n          \"CC Los Molinos - Zona Monta\\u00f1a Nivel 2\",\n          \"CC Plaza de las Am\\u00e9ricas  - Plaza Mariposa\",\n          \"Universidad de los Andes - ML Piso 5\"\n        ],\n        \"semantic_type\": \"\",\n        \"description\": \"\"\n      }\n    },\n    {\n      \"column\": \"cantidad_operaciones\",\n      \"properties\": {\n        \"dtype\": \"number\",\n        \"std\": 843,\n        \"min\": 475,\n        \"max\": 1976,\n        \"num_unique_values\": 3,\n        \"samples\": [\n          1894,\n          1976,\n          475\n        ],\n        \"semantic_type\": \"\",\n        \"description\": \"\"\n      }\n    }\n  ]\n}"
            }
          },
          "metadata": {},
          "execution_count": 71
        }
      ]
    },
    {
      "cell_type": "code",
      "source": [
        "# Calcular el valor total en operation_value por ubicación\n",
        "total_value_by_location = df.groupby('maplocation_name')['operation_value'].sum().reset_index(name='valor_total')\n",
        "\n",
        "print(total_value_by_location)"
      ],
      "metadata": {
        "colab": {
          "base_uri": "https://localhost:8080/"
        },
        "id": "GQM_MqJpsAKF",
        "outputId": "ad7f36bd-cfdd-415b-c9c5-77c2db0aac20"
      },
      "execution_count": 93,
      "outputs": [
        {
          "output_type": "stream",
          "name": "stdout",
          "text": [
            "                             maplocation_name  valor_total\n",
            "0       CC Los Molinos - Zona Montaña Nivel 2     34597650\n",
            "1  CC Plaza de las Américas  - Plaza Mariposa    112241000\n",
            "2        Universidad de los Andes - ML Piso 5      3578100\n"
          ]
        }
      ]
    },
    {
      "cell_type": "code",
      "source": [
        "\n",
        "# Calcular el valor total en operation_value por ubicación\n",
        "total_value_by_location = df.groupby('maplocation_name')['operation_value'].sum().reset_index(name='valor_total')\n",
        "\n",
        "# Graficar el valor total por ubicación\n",
        "plt.figure(figsize=(10, 6))\n",
        "plt.bar(total_value_by_location['maplocation_name'], total_value_by_location['valor_total'])\n",
        "plt.xlabel('Ubicación')\n",
        "plt.ylabel('Valor Total en Operation Value')\n",
        "plt.title('Valor Total en Operation Value por Ubicación')\n",
        "plt.xticks(rotation=45, ha='right')\n",
        "plt.tight_layout()\n",
        "plt.show()"
      ],
      "metadata": {
        "colab": {
          "base_uri": "https://localhost:8080/",
          "height": 607
        },
        "id": "Qm92XL4PsMKa",
        "outputId": "878013c8-ca37-4100-ee89-51b3877e9061"
      },
      "execution_count": 94,
      "outputs": [
        {
          "output_type": "display_data",
          "data": {
            "text/plain": [
              "<Figure size 1000x600 with 1 Axes>"
            ],
            "image/png": "[encoded data removed]"
          },
          "metadata": {}
        }
      ]
    },
    {
      "cell_type": "markdown",
      "source": [
        "### Horas de operacion"
      ],
      "metadata": {
        "id": "VqJj7oO-uVB2"
      }
    },
    {
      "cell_type": "code",
      "source": [
        "\n",
        "# Convertir la columna 'operation_hour' en formato datetime para facilitar los cálculos\n",
        "df['operation_hour'] = pd.to_datetime(df['operation_hour'], format='%H:%M:%S').dt.hour\n",
        "\n",
        "# Calcular la suma total de horas de operación y el número total de operaciones\n",
        "sum_hours = df['operation_hour'].sum()\n",
        "total_operations = df['operation_hour'].count()\n",
        "\n",
        "# Calcular el promedio de horas de operación\n",
        "average_hour = sum_hours / total_operations\n",
        "\n",
        "print(f\"El promedio de horas de operación es: {average_hour}\")"
      ],
      "metadata": {
        "colab": {
          "base_uri": "https://localhost:8080/"
        },
        "id": "f29YAwFyudgp",
        "outputId": "d94645e9-0056-4f14-9d53-a596a4a07789"
      },
      "execution_count": 84,
      "outputs": [
        {
          "output_type": "stream",
          "name": "stdout",
          "text": [
            "El promedio de horas de operación es: 14.405293440736479\n"
          ]
        }
      ]
    },
    {
      "cell_type": "code",
      "source": [
        "\n",
        "# Agrupar por hora y contar el número de operaciones en cada hora\n",
        "hourly_operations = df.groupby('operation_hour').size().reset_index(name='count')\n",
        "\n",
        "# Ordenar los resultados de mayor a menor cantidad de operaciones\n",
        "hourly_operations_sorted = hourly_operations.sort_values(by='count', ascending=False)\n",
        "\n",
        "# Mostrar las horas con mayor operación\n",
        "top_hours = hourly_operations_sorted.head(5)  # Cambia el número si quieres más horas\n",
        "print(\"Horas con mayor operación:\")\n",
        "print(top_hours)"
      ],
      "metadata": {
        "colab": {
          "base_uri": "https://localhost:8080/"
        },
        "id": "wZ7J4jG1u59P",
        "outputId": "04ceaf48-cef4-41ad-a169-b71817f356b9"
      },
      "execution_count": 89,
      "outputs": [
        {
          "output_type": "stream",
          "name": "stdout",
          "text": [
            "Horas con mayor operación:\n",
            "    operation_hour  count\n",
            "13              17    481\n",
            "12              16    412\n",
            "11              15    404\n",
            "10              14    399\n",
            "9               13    383\n"
          ]
        }
      ]
    },
    {
      "cell_type": "code",
      "source": [
        "\n",
        "# Gráfico de barras de las horas con mayor operación\n",
        "plt.figure(figsize=(10, 6))\n",
        "plt.bar(top_hours['operation_hour'], top_hours['count'], color='skyblue')\n",
        "plt.xlabel('Hora del día')\n",
        "plt.ylabel('Número de operaciones')\n",
        "plt.title('Horas con mayor operación')\n",
        "plt.xticks(top_hours['operation_hour'])\n",
        "plt.grid(axis='y')\n",
        "plt.show()"
      ],
      "metadata": {
        "colab": {
          "base_uri": "https://localhost:8080/",
          "height": 565
        },
        "id": "lDj7_ZI2vEcZ",
        "outputId": "e9abe1df-1383-4337-a017-3b0ec026d666"
      },
      "execution_count": 86,
      "outputs": [
        {
          "output_type": "display_data",
          "data": {
            "text/plain": [
              "<Figure size 1000x600 with 1 Axes>"
            ],
            "image/png": "[encoded data removed]"
          },
          "metadata": {}
        }
      ]
    },
    {
      "cell_type": "code",
      "source": [
        "\n",
        "# Crear la gráfica de barras de todas las horas\n",
        "plt.figure(figsize=(12, 6))\n",
        "plt.bar(hourly_operations_sorted['operation_hour'], hourly_operations_sorted['count'], color='skyblue')\n",
        "plt.xlabel('Hora del día')\n",
        "plt.ylabel('Número de operaciones')\n",
        "plt.title('Número de operaciones por hora del día')\n",
        "plt.xticks(hourly_operations_sorted['operation_hour'])\n",
        "plt.grid(axis='y')\n",
        "plt.show()\n",
        "\n",
        "# Imprimir la tabla de todas las horas\n",
        "print(\"Número de operaciones por hora del día:\")\n",
        "hourly_operations_sorted"
      ],
      "metadata": {
        "colab": {
          "base_uri": "https://localhost:8080/",
          "height": 964
        },
        "id": "LQ_1Xfs0v8K1",
        "outputId": "b1a53fa9-d508-4bb4-b3ac-f347b637b7f9"
      },
      "execution_count": 90,
      "outputs": [
        {
          "output_type": "display_data",
          "data": {
            "text/plain": [
              "<Figure size 1200x600 with 1 Axes>"
            ],
            "image/png": "[encoded data removed]"
          },
          "metadata": {}
        },
        {
          "output_type": "stream",
          "name": "stdout",
          "text": [
            "Número de operaciones por hora del día:\n",
            "    operation_hour  count\n",
            "13              17    481\n",
            "12              16    412\n",
            "11              15    404\n",
            "10              14    399\n",
            "9               13    383\n",
            "14              18    382\n",
            "7               11    374\n",
            "8               12    348\n",
            "15              19    289\n",
            "6               10    272\n",
            "16              20    172\n",
            "5                9    167\n",
            "4                8     96\n",
            "17              21     56\n",
            "2                6     51\n",
            "3                7     41\n",
            "18              22     13\n",
            "0                2      2\n",
            "19              23      2\n",
            "1                4      1\n"
          ]
        }
      ]
    },
    {
      "cell_type": "code",
      "source": [
        "\n",
        "# Convertir la columna 'operation_date' en formato datetime y obtener el día de la semana\n",
        "df['operation_date'] = pd.to_datetime(df['operation_date'])\n",
        "df['day_of_week'] = df['operation_date'].dt.day_name()\n",
        "\n",
        "# Agrupar por día de la semana y contar el número de transacciones en cada día\n",
        "daily_transactions = df.groupby('day_of_week').size().reset_index(name='count')\n",
        "\n",
        "# Ordenar los resultados por día de la semana\n",
        "daily_transactions_sorted = daily_transactions.sort_values(by='day_of_week', key=lambda x: pd.Categorical(x, categories=\n",
        "['Lunes', 'Martes', 'Miercoles', 'Jueves', 'Viernes', 'Sabado', 'Domingo']), ignore_index=True)\n",
        "\n",
        "# Crear la gráfica de barras del número de transacciones por día de la semana\n",
        "plt.figure(figsize=(10, 6))\n",
        "plt.bar(daily_transactions_sorted['day_of_week'], daily_transactions_sorted['count'], color='skyblue')\n",
        "plt.xlabel('Día de la semana')\n",
        "plt.ylabel('Número de transacciones')\n",
        "plt.title('Número de transacciones por día de la semana')\n",
        "plt.xticks(rotation=45)\n",
        "plt.grid(axis='y')\n",
        "plt.show()\n",
        "\n",
        "# Imprimir la tabla del número de transacciones por día de la semana\n",
        "print(\"Número de transacciones por día de la semana:\")\n",
        "daily_transactions_sorted"
      ],
      "metadata": {
        "colab": {
          "base_uri": "https://localhost:8080/",
          "height": 887
        },
        "id": "C9Y-BBdrwujI",
        "outputId": "da865d85-fb9b-436b-8f19-8855d94b1c71"
      },
      "execution_count": 95,
      "outputs": [
        {
          "output_type": "display_data",
          "data": {
            "text/plain": [
              "<Figure size 1000x600 with 1 Axes>"
            ],
            "image/png": "[encoded data removed]"
          },
          "metadata": {}
        },
        {
          "output_type": "stream",
          "name": "stdout",
          "text": [
            "Número de transacciones por día de la semana:\n"
          ]
        },
        {
          "output_type": "execute_result",
          "data": {
            "text/plain": [
              "  day_of_week  count\n",
              "0      Friday    630\n",
              "1      Monday    595\n",
              "2    Saturday    716\n",
              "3      Sunday    503\n",
              "4    Thursday    666\n",
              "5     Tuesday    576\n",
              "6   Wednesday    659"
            ],
            "text/html": [
              "\n",
              "  <div id=\"df-48798a7e-e5ae-4ee3-a571-e474496b124d\" class=\"colab-df-container\">\n",
              "    <div>\n",
              "<style scoped>\n",
              "    .dataframe tbody tr th:only-of-type {\n",
              "        vertical-align: middle;\n",
              "    }\n",
              "\n",
              "    .dataframe tbody tr th {\n",
              "        vertical-align: top;\n",
              "    }\n",
              "\n",
              "    .dataframe thead th {\n",
              "        text-align: right;\n",
              "    }\n",
              "</style>\n",
              "<table border=\"1\" class=\"dataframe\">\n",
              "  <thead>\n",
              "    <tr style=\"text-align: right;\">\n",
              "      <th></th>\n",
              "      <th>day_of_week</th>\n",
              "      <th>count</th>\n",
              "    </tr>\n",
              "  </thead>\n",
              "  <tbody>\n",
              "    <tr>\n",
              "      <th>0</th>\n",
              "      <td>Friday</td>\n",
              "      <td>630</td>\n",
              "    </tr>\n",
              "    <tr>\n",
              "      <th>1</th>\n",
              "      <td>Monday</td>\n",
              "      <td>595</td>\n",
              "    </tr>\n",
              "    <tr>\n",
              "      <th>2</th>\n",
              "      <td>Saturday</td>\n",
              "      <td>716</td>\n",
              "    </tr>\n",
              "    <tr>\n",
              "      <th>3</th>\n",
              "      <td>Sunday</td>\n",
              "      <td>503</td>\n",
              "    </tr>\n",
              "    <tr>\n",
              "      <th>4</th>\n",
              "      <td>Thursday</td>\n",
              "      <td>666</td>\n",
              "    </tr>\n",
              "    <tr>\n",
              "      <th>5</th>\n",
              "      <td>Tuesday</td>\n",
              "      <td>576</td>\n",
              "    </tr>\n",
              "    <tr>\n",
              "      <th>6</th>\n",
              "      <td>Wednesday</td>\n",
              "      <td>659</td>\n",
              "    </tr>\n",
              "  </tbody>\n",
              "</table>\n",
              "</div>\n",
              "    <div class=\"colab-df-buttons\">\n",
              "\n",
              "  <div class=\"colab-df-container\">\n",
              "    <button class=\"colab-df-convert\" onclick=\"convertToInteractive('df-48798a7e-e5ae-4ee3-a571-e474496b124d')\"\n",
              "            title=\"Convert this dataframe to an interactive table.\"\n",
              "            style=\"display:none;\">\n",
              "\n",
              "  <svg xmlns=\"http://www.w3.org/2000/svg\" height=\"24px\" viewBox=\"0 -960 960 960\">\n",
              "    <path d=\"M120-120v-720h720v720H120Zm60-500h600v-160H180v160Zm220 220h160v-160H400v160Zm0 220h160v-160H400v160ZM180-400h160v-160H180v160Zm440 0h160v-160H620v160ZM180-180h160v-160H180v160Zm440 0h160v-160H620v160Z\"/>\n",
              "  </svg>\n",
              "    </button>\n",
              "\n",
              "  <style>\n",
              "    .colab-df-container {\n",
              "      display:flex;\n",
              "      gap: 12px;\n",
              "    }\n",
              "\n",
              "    .colab-df-convert {\n",
              "      background-color: #E8F0FE;\n",
              "      border: none;\n",
              "      border-radius: 50%;\n",
              "      cursor: pointer;\n",
              "      display: none;\n",
              "      fill: #1967D2;\n",
              "      height: 32px;\n",
              "      padding: 0 0 0 0;\n",
              "      width: 32px;\n",
              "    }\n",
              "\n",
              "    .colab-df-convert:hover {\n",
              "      background-color: #E2EBFA;\n",
              "      box-shadow: 0px 1px 2px rgba(60, 64, 67, 0.3), 0px 1px 3px 1px rgba(60, 64, 67, 0.15);\n",
              "      fill: #174EA6;\n",
              "    }\n",
              "\n",
              "    .colab-df-buttons div {\n",
              "      margin-bottom: 4px;\n",
              "    }\n",
              "\n",
              "    [theme=dark] .colab-df-convert {\n",
              "      background-color: #3B4455;\n",
              "      fill: #D2E3FC;\n",
              "    }\n",
              "\n",
              "    [theme=dark] .colab-df-convert:hover {\n",
              "      background-color: #434B5C;\n",
              "      box-shadow: 0px 1px 3px 1px rgba(0, 0, 0, 0.15);\n",
              "      filter: drop-shadow(0px 1px 2px rgba(0, 0, 0, 0.3));\n",
              "      fill: #FFFFFF;\n",
              "    }\n",
              "  </style>\n",
              "\n",
              "    <script>\n",
              "      const buttonEl =\n",
              "        document.querySelector('#df-48798a7e-e5ae-4ee3-a571-e474496b124d button.colab-df-convert');\n",
              "      buttonEl.style.display =\n",
              "        google.colab.kernel.accessAllowed ? 'block' : 'none';\n",
              "\n",
              "      async function convertToInteractive(key) {\n",
              "        const element = document.querySelector('#df-48798a7e-e5ae-4ee3-a571-e474496b124d');\n",
              "        const dataTable =\n",
              "          await google.colab.kernel.invokeFunction('convertToInteractive',\n",
              "                                                    [key], {});\n",
              "        if (!dataTable) return;\n",
              "\n",
              "        const docLinkHtml = 'Like what you see? Visit the ' +\n",
              "          '<a target=\"_blank\" href=https://colab.research.google.com/notebooks/data_table.ipynb>data table notebook</a>'\n",
              "          + ' to learn more about interactive tables.';\n",
              "        element.innerHTML = '';\n",
              "        dataTable['output_type'] = 'display_data';\n",
              "        await google.colab.output.renderOutput(dataTable, element);\n",
              "        const docLink = document.createElement('div');\n",
              "        docLink.innerHTML = docLinkHtml;\n",
              "        element.appendChild(docLink);\n",
              "      }\n",
              "    </script>\n",
              "  </div>\n",
              "\n",
              "\n",
              "<div id=\"df-d7baba36-17d3-4173-b840-0bbadade7c43\">\n",
              "  <button class=\"colab-df-quickchart\" onclick=\"quickchart('df-d7baba36-17d3-4173-b840-0bbadade7c43')\"\n",
              "            title=\"Suggest charts\"\n",
              "            style=\"display:none;\">\n",
              "\n",
              "<svg xmlns=\"http://www.w3.org/2000/svg\" height=\"24px\"viewBox=\"0 0 24 24\"\n",
              "     width=\"24px\">\n",
              "    <g>\n",
              "        <path d=\"M19 3H5c-1.1 0-2 .9-2 2v14c0 1.1.9 2 2 2h14c1.1 0 2-.9 2-2V5c0-1.1-.9-2-2-2zM9 17H7v-7h2v7zm4 0h-2V7h2v10zm4 0h-2v-4h2v4z\"/>\n",
              "    </g>\n",
              "</svg>\n",
              "  </button>\n",
              "\n",
              "<style>\n",
              "  .colab-df-quickchart {\n",
              "      --bg-color: #E8F0FE;\n",
              "      --fill-color: #1967D2;\n",
              "      --hover-bg-color: #E2EBFA;\n",
              "      --hover-fill-color: #174EA6;\n",
              "      --disabled-fill-color: #AAA;\n",
              "      --disabled-bg-color: #DDD;\n",
              "  }\n",
              "\n",
              "  [theme=dark] .colab-df-quickchart {\n",
              "      --bg-color: #3B4455;\n",
              "      --fill-color: #D2E3FC;\n",
              "      --hover-bg-color: #434B5C;\n",
              "      --hover-fill-color: #FFFFFF;\n",
              "      --disabled-bg-color: #3B4455;\n",
              "      --disabled-fill-color: #666;\n",
              "  }\n",
              "\n",
              "  .colab-df-quickchart {\n",
              "    background-color: var(--bg-color);\n",
              "    border: none;\n",
              "    border-radius: 50%;\n",
              "    cursor: pointer;\n",
              "    display: none;\n",
              "    fill: var(--fill-color);\n",
              "    height: 32px;\n",
              "    padding: 0;\n",
              "    width: 32px;\n",
              "  }\n",
              "\n",
              "  .colab-df-quickchart:hover {\n",
              "    background-color: var(--hover-bg-color);\n",
              "    box-shadow: 0 1px 2px rgba(60, 64, 67, 0.3), 0 1px 3px 1px rgba(60, 64, 67, 0.15);\n",
              "    fill: var(--button-hover-fill-color);\n",
              "  }\n",
              "\n",
              "  .colab-df-quickchart-complete:disabled,\n",
              "  .colab-df-quickchart-complete:disabled:hover {\n",
              "    background-color: var(--disabled-bg-color);\n",
              "    fill: var(--disabled-fill-color);\n",
              "    box-shadow: none;\n",
              "  }\n",
              "\n",
              "  .colab-df-spinner {\n",
              "    border: 2px solid var(--fill-color);\n",
              "    border-color: transparent;\n",
              "    border-bottom-color: var(--fill-color);\n",
              "    animation:\n",
              "      spin 1s steps(1) infinite;\n",
              "  }\n",
              "\n",
              "  @keyframes spin {\n",
              "    0% {\n",
              "      border-color: transparent;\n",
              "      border-bottom-color: var(--fill-color);\n",
              "      border-left-color: var(--fill-color);\n",
              "    }\n",
              "    20% {\n",
              "      border-color: transparent;\n",
              "      border-left-color: var(--fill-color);\n",
              "      border-top-color: var(--fill-color);\n",
              "    }\n",
              "    30% {\n",
              "      border-color: transparent;\n",
              "      border-left-color: var(--fill-color);\n",
              "      border-top-color: var(--fill-color);\n",
              "      border-right-color: var(--fill-color);\n",
              "    }\n",
              "    40% {\n",
              "      border-color: transparent;\n",
              "      border-right-color: var(--fill-color);\n",
              "      border-top-color: var(--fill-color);\n",
              "    }\n",
              "    60% {\n",
              "      border-color: transparent;\n",
              "      border-right-color: var(--fill-color);\n",
              "    }\n",
              "    80% {\n",
              "      border-color: transparent;\n",
              "      border-right-color: var(--fill-color);\n",
              "      border-bottom-color: var(--fill-color);\n",
              "    }\n",
              "    90% {\n",
              "      border-color: transparent;\n",
              "      border-bottom-color: var(--fill-color);\n",
              "    }\n",
              "  }\n",
              "</style>\n",
              "\n",
              "  <script>\n",
              "    async function quickchart(key) {\n",
              "      const quickchartButtonEl =\n",
              "        document.querySelector('#' + key + ' button');\n",
              "      quickchartButtonEl.disabled = true;  // To prevent multiple clicks.\n",
              "      quickchartButtonEl.classList.add('colab-df-spinner');\n",
              "      try {\n",
              "        const charts = await google.colab.kernel.invokeFunction(\n",
              "            'suggestCharts', [key], {});\n",
              "      } catch (error) {\n",
              "        console.error('Error during call to suggestCharts:', error);\n",
              "      }\n",
              "      quickchartButtonEl.classList.remove('colab-df-spinner');\n",
              "      quickchartButtonEl.classList.add('colab-df-quickchart-complete');\n",
              "    }\n",
              "    (() => {\n",
              "      let quickchartButtonEl =\n",
              "        document.querySelector('#df-d7baba36-17d3-4173-b840-0bbadade7c43 button');\n",
              "      quickchartButtonEl.style.display =\n",
              "        google.colab.kernel.accessAllowed ? 'block' : 'none';\n",
              "    })();\n",
              "  </script>\n",
              "</div>\n",
              "\n",
              "  <div id=\"id_d2455b73-6529-4cca-94f3-c6ac66c715f8\">\n",
              "    <style>\n",
              "      .colab-df-generate {\n",
              "        background-color: #E8F0FE;\n",
              "        border: none;\n",
              "        border-radius: 50%;\n",
              "        cursor: pointer;\n",
              "        display: none;\n",
              "        fill: #1967D2;\n",
              "        height: 32px;\n",
              "        padding: 0 0 0 0;\n",
              "        width: 32px;\n",
              "      }\n",
              "\n",
              "      .colab-df-generate:hover {\n",
              "        background-color: #E2EBFA;\n",
              "        box-shadow: 0px 1px 2px rgba(60, 64, 67, 0.3), 0px 1px 3px 1px rgba(60, 64, 67, 0.15);\n",
              "        fill: #174EA6;\n",
              "      }\n",
              "\n",
              "      [theme=dark] .colab-df-generate {\n",
              "        background-color: #3B4455;\n",
              "        fill: #D2E3FC;\n",
              "      }\n",
              "\n",
              "      [theme=dark] .colab-df-generate:hover {\n",
              "        background-color: #434B5C;\n",
              "        box-shadow: 0px 1px 3px 1px rgba(0, 0, 0, 0.15);\n",
              "        filter: drop-shadow(0px 1px 2px rgba(0, 0, 0, 0.3));\n",
              "        fill: #FFFFFF;\n",
              "      }\n",
              "    </style>\n",
              "    <button class=\"colab-df-generate\" onclick=\"generateWithVariable('daily_transactions_sorted')\"\n",
              "            title=\"Generate code using this dataframe.\"\n",
              "            style=\"display:none;\">\n",
              "\n",
              "  <svg xmlns=\"http://www.w3.org/2000/svg\" height=\"24px\"viewBox=\"0 0 24 24\"\n",
              "       width=\"24px\">\n",
              "    <path d=\"M7,19H8.4L18.45,9,17,7.55,7,17.6ZM5,21V16.75L18.45,3.32a2,2,0,0,1,2.83,0l1.4,1.43a1.91,1.91,0,0,1,.58,1.4,1.91,1.91,0,0,1-.58,1.4L9.25,21ZM18.45,9,17,7.55Zm-12,3A5.31,5.31,0,0,0,4.9,8.1,5.31,5.31,0,0,0,1,6.5,5.31,5.31,0,0,0,4.9,4.9,5.31,5.31,0,0,0,6.5,1,5.31,5.31,0,0,0,8.1,4.9,5.31,5.31,0,0,0,12,6.5,5.46,5.46,0,0,0,6.5,12Z\"/>\n",
              "  </svg>\n",
              "    </button>\n",
              "    <script>\n",
              "      (() => {\n",
              "      const buttonEl =\n",
              "        document.querySelector('#id_d2455b73-6529-4cca-94f3-c6ac66c715f8 button.colab-df-generate');\n",
              "      buttonEl.style.display =\n",
              "        google.colab.kernel.accessAllowed ? 'block' : 'none';\n",
              "\n",
              "      buttonEl.onclick = () => {\n",
              "        google.colab.notebook.generateWithVariable('daily_transactions_sorted');\n",
              "      }\n",
              "      })();\n",
              "    </script>\n",
              "  </div>\n",
              "\n",
              "    </div>\n",
              "  </div>\n"
            ],
            "application/vnd.google.colaboratory.intrinsic+json": {
              "type": "dataframe",
              "variable_name": "daily_transactions_sorted",
              "summary": "{\n  \"name\": \"daily_transactions_sorted\",\n  \"rows\": 7,\n  \"fields\": [\n    {\n      \"column\": \"day_of_week\",\n      \"properties\": {\n        \"dtype\": \"string\",\n        \"num_unique_values\": 7,\n        \"samples\": [\n          \"Friday\",\n          \"Monday\",\n          \"Tuesday\"\n        ],\n        \"semantic_type\": \"\",\n        \"description\": \"\"\n      }\n    },\n    {\n      \"column\": \"count\",\n      \"properties\": {\n        \"dtype\": \"number\",\n        \"std\": 69,\n        \"min\": 503,\n        \"max\": 716,\n        \"num_unique_values\": 7,\n        \"samples\": [\n          630,\n          595,\n          576\n        ],\n        \"semantic_type\": \"\",\n        \"description\": \"\"\n      }\n    }\n  ]\n}"
            }
          },
          "metadata": {},
          "execution_count": 95
        }
      ]
    }
  ]
}